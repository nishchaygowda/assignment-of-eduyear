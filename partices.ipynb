{
 "cells": [
  {
   "cell_type": "code",
   "execution_count": 11,
   "id": "7f59edd0",
   "metadata": {},
   "outputs": [
    {
     "name": "stdout",
     "output_type": "stream",
     "text": [
      "-\n",
      "p\n",
      "-\n",
      "y\n",
      "-\n",
      "t\n",
      "-\n",
      "h\n",
      "-\n",
      "o\n",
      "-\n",
      "n\n",
      "-\n",
      " \n",
      "-\n",
      "l\n",
      "-\n",
      "a\n",
      "-\n",
      "n\n",
      "-\n",
      "g\n",
      "-\n",
      "a\n",
      "-\n",
      "n\n",
      "-\n",
      "u\n",
      "-\n",
      "a\n",
      "-\n",
      "g\n",
      "-\n",
      "e\n",
      "-\n",
      " \n",
      "-\n",
      "i\n",
      "-\n",
      "s\n",
      "-\n",
      " \n",
      "-\n",
      "u\n",
      "-\n",
      "s\n",
      "-\n",
      "e\n",
      "-\n",
      "d\n",
      "-\n",
      " \n",
      "-\n",
      "f\n",
      "-\n",
      "o\n",
      "-\n",
      "r\n",
      "-\n",
      " \n",
      "-\n",
      "p\n",
      "-\n",
      "r\n",
      "-\n",
      "o\n",
      "-\n",
      "g\n",
      "-\n",
      "r\n",
      "-\n",
      "a\n",
      "-\n",
      "m\n",
      "-\n",
      "m\n",
      "-\n",
      "i\n",
      "-\n",
      "n\n",
      "-\n",
      "g\n"
     ]
    }
   ],
   "source": [
    "st = 'python langanuage is used for programming'\n",
    "for i in st[0::1]:\n",
    "    print('-')\n",
    "    print(i)"
   ]
  },
  {
   "cell_type": "code",
   "execution_count": 5,
   "id": "30dcacd5",
   "metadata": {},
   "outputs": [
    {
     "ename": "ValueError",
     "evalue": "substring not found",
     "output_type": "error",
     "traceback": [
      "\u001b[1;31m---------------------------------------------------------------------------\u001b[0m",
      "\u001b[1;31mValueError\u001b[0m                                Traceback (most recent call last)",
      "\u001b[1;32m<ipython-input-5-ca792ee23623>\u001b[0m in \u001b[0;36m<module>\u001b[1;34m\u001b[0m\n\u001b[0;32m      1\u001b[0m \u001b[0msr\u001b[0m \u001b[1;33m=\u001b[0m \u001b[1;34m'python langanuage is used for programming'\u001b[0m\u001b[1;33m\u001b[0m\u001b[1;33m\u001b[0m\u001b[0m\n\u001b[1;32m----> 2\u001b[1;33m \u001b[0msr\u001b[0m\u001b[1;33m.\u001b[0m\u001b[0mindex\u001b[0m\u001b[1;33m(\u001b[0m\u001b[1;34m't'\u001b[0m\u001b[1;33m,\u001b[0m\u001b[1;36m0\u001b[0m\u001b[1;33m,\u001b[0m\u001b[1;36m2\u001b[0m\u001b[1;33m)\u001b[0m\u001b[1;33m\u001b[0m\u001b[1;33m\u001b[0m\u001b[0m\n\u001b[0m\u001b[0;32m      3\u001b[0m \u001b[0mstr\u001b[0m\u001b[1;33m.\u001b[0m\u001b[0mupper\u001b[0m\u001b[1;33m(\u001b[0m\u001b[0msr\u001b[0m\u001b[1;33m)\u001b[0m\u001b[1;33m\u001b[0m\u001b[1;33m\u001b[0m\u001b[0m\n\u001b[0;32m      4\u001b[0m \u001b[0mprint\u001b[0m\u001b[1;33m(\u001b[0m\u001b[0msr\u001b[0m\u001b[1;33m)\u001b[0m\u001b[1;33m\u001b[0m\u001b[1;33m\u001b[0m\u001b[0m\n",
      "\u001b[1;31mValueError\u001b[0m: substring not found"
     ]
    }
   ],
   "source": [
    "sr = 'python langanuage is used for programming'\n",
    "sr.index('t',0,2)\n",
    "str.upper(sr)\n",
    "print(sr)"
   ]
  },
  {
   "cell_type": "code",
   "execution_count": null,
   "id": "99a3f756",
   "metadata": {},
   "outputs": [],
   "source": []
  }
 ],
 "metadata": {
  "kernelspec": {
   "display_name": "Python 3",
   "language": "python",
   "name": "python3"
  },
  "language_info": {
   "codemirror_mode": {
    "name": "ipython",
    "version": 3
   },
   "file_extension": ".py",
   "mimetype": "text/x-python",
   "name": "python",
   "nbconvert_exporter": "python",
   "pygments_lexer": "ipython3",
   "version": "3.9.1"
  }
 },
 "nbformat": 4,
 "nbformat_minor": 5
}
